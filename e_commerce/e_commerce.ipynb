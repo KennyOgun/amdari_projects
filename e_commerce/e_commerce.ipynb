{
 "cells": [
  {
   "cell_type": "markdown",
   "metadata": {},
   "source": [
    "# 1.0 Importing Libraries\n",
    "# Import Python Libraries"
   ]
  },
  {
   "cell_type": "code",
   "execution_count": null,
   "metadata": {},
   "outputs": [
    {
     "ename": "",
     "evalue": "",
     "output_type": "error",
     "traceback": [
      "\u001b[1;31mRunning cells with '.venv (Python 3.12.5)' requires the ipykernel package.\n",
      "\u001b[1;31mRun the following command to install 'ipykernel' into the Python environment. \n",
      "\u001b[1;31mCommand: '\"c:/Users/Kenny Ogundana/OneDrive/Documents/amdari_projects/.venv/Scripts/python.exe\" -m pip install ipykernel -U --force-reinstall'"
     ]
    }
   ],
   "source": [
    "# Essential Configuration\n",
    "%matplotlib inline\n",
    "%config InlineBackend.figure_formats = {'retina', 'svg'}\n",
    "\n",
    "# Core Libraries\n",
    "import pandas as pd\n",
    "import numpy as np\n",
    "import warnings\n",
    "warnings.filterwarnings('ignore')\n",
    "\n",
    "# Visualization Libraries\n",
    "import matplotlib.pyplot as plt\n",
    "import seaborn as sns\n",
    "from wordcloud import WordCloud\n",
    "from matplotlib.colors import LinearSegmentedColormap\n",
    "from mpl_toolkits.mplot3d import Axes3D\n",
    "import matplotlib.gridspec as gridspec\n",
    "from matplotlib import colors as mcolors\n",
    "import plotly.graph_objects as go\n",
    "from plotly.offline import init_notebook_mode\n",
    "init_notebook_mode(connected=True)\n",
    "\n",
    "# Statistical and Data Manipulation\n",
    "from scipy.stats import linregress\n",
    "from scipy.cluster.hierarchy import dendrogram, linkage, fcluster\n",
    "from collections import Counter\n",
    "\n",
    "# Scikit-learn Libraries\n",
    "from sklearn.preprocessing import StandardScaler\n",
    "from sklearn.impute import SimpleImputer\n",
    "from sklearn.decomposition import PCA\n",
    "from sklearn.ensemble import IsolationForest\n",
    "from sklearn.cluster import KMeans, DBSCAN, AgglomerativeClustering, MeanShift, estimate_bandwidth\n",
    "from sklearn.mixture import GaussianMixture\n",
    "from sklearn.metrics import silhouette_score, calinski_harabasz_score, davies_bouldin_score\n",
    "\n",
    "# Visualization Helpers for Clustering\n",
    "from yellowbrick.cluster import KElbowVisualizer, SilhouetteVisualizer\n",
    "\n",
    "# Display Settings\n",
    "pd.set_option('display.max_columns', None)  # Show all columns\n",
    "pd.set_option('display.width', None)        # Adjust the display width to accommodate all columns\n",
    "\n",
    "# Seaborn Default Settings\n",
    "sns.set(\n",
    "    {\n",
    "        \"figure.figsize\": (8, 6)\n",
    "    },\n",
    "    style='ticks',\n",
    "    color_codes=True,\n",
    "    font_scale=0.8\n",
    ")\n"
   ]
  },
  {
   "cell_type": "markdown",
   "metadata": {},
   "source": [
    "# 2.0 Loading the Dataset"
   ]
  },
  {
   "cell_type": "code",
   "execution_count": null,
   "metadata": {},
   "outputs": [],
   "source": [
    "# Load dataset using panda read_csv to and check first three rows\n",
    "df = pd.read_csv('Dataset_ecommerce.csv')\n",
    "df.head()"
   ]
  },
  {
   "cell_type": "markdown",
   "metadata": {},
   "source": [
    "# Dataset Description:\n",
    "\n",
    "1. InvoiceNo: Code representing each unique transaction.\n",
    "2. StockCode:\tCode uniquely assigned to each distinct product.\n",
    "3. Description:\tDescription of each product.\n",
    "4. Quantity:\tThe number of units of a product in a transaction.\n",
    "5. InvoiceDate:\tThe date and time of the transaction.\n",
    "6. UnitPrice:\tThe unit price of the product in sterling.\n",
    "7. CustomerID:\tIdentifier uniquely assigned to each customer.\n",
    "8. Country:\tThe country of the customer."
   ]
  },
  {
   "cell_type": "markdown",
   "metadata": {},
   "source": [
    "# 2.0 Data Understanding"
   ]
  },
  {
   "cell_type": "code",
   "execution_count": null,
   "metadata": {},
   "outputs": [],
   "source": [
    "#check data shape\n",
    "df.shape"
   ]
  },
  {
   "cell_type": "code",
   "execution_count": null,
   "metadata": {},
   "outputs": [],
   "source": [
    "#check data information\n",
    "df.info()"
   ]
  },
  {
   "cell_type": "code",
   "execution_count": null,
   "metadata": {},
   "outputs": [],
   "source": [
    "# Check duplicate values\n",
    "df.duplicated().sum()\n",
    "\n",
    "# Displaying the number of duplicate rows\n",
    "print(f\"The dataset contains {df.duplicated().sum()} duplicate rows that need to be removed.\")"
   ]
  },
  {
   "cell_type": "code",
   "execution_count": null,
   "metadata": {},
   "outputs": [],
   "source": [
    "# Checking for missing values in dataset\n",
    "df.isnull().sum()"
   ]
  },
  {
   "cell_type": "code",
   "execution_count": null,
   "metadata": {},
   "outputs": [],
   "source": [
    "# check data statistics\n",
    "df.describe(include='all').round(2)"
   ]
  },
  {
   "cell_type": "code",
   "execution_count": null,
   "metadata": {},
   "outputs": [],
   "source": [
    "from wordcloud import WordCloud\n",
    "import matplotlib.pyplot as plt\n",
    "\n",
    "# Combine all text in the 'Description' column into a single string\n",
    "text = ' '.join(df['Description'].dropna().astype(str))\n",
    "\n",
    "# Generate the word cloud\n",
    "wordcloud = WordCloud(width=800, height=400, background_color='white', colormap='viridis').generate(text)\n",
    "\n",
    "# Plot the word cloud\n",
    "plt.figure(figsize=(10, 6))\n",
    "plt.imshow(wordcloud, interpolation='bilinear')\n",
    "plt.axis('off')  # Turn off axis\n",
    "plt.title('Word Cloud for Product Descriptions', fontsize=16)\n",
    "plt.show()\n"
   ]
  },
  {
   "cell_type": "code",
   "execution_count": null,
   "metadata": {},
   "outputs": [],
   "source": [
    "from wordcloud import WordCloud\n",
    "import matplotlib.pyplot as plt\n",
    "\n",
    "# Combine all text in the 'Country' column into a single string\n",
    "text = ' '.join(df['Country'].dropna().astype(str))\n",
    "\n",
    "# Generate the word cloud\n",
    "wordcloud = WordCloud(width=800, height=400, background_color='white', colormap='viridis').generate(text)\n",
    "\n",
    "# Plot the word cloud\n",
    "plt.figure(figsize=(10, 6))\n",
    "plt.imshow(wordcloud, interpolation='bilinear')\n",
    "plt.axis('off')  # Turn off axis\n",
    "plt.title('Word Cloud for Country', fontsize=16)\n",
    "plt.show()\n"
   ]
  },
  {
   "cell_type": "markdown",
   "metadata": {},
   "source": [
    "# Comments:\n",
    "\n",
    "1. Quantity: The average quantity of products in a transaction is approximately 50.53. The quantity has a range with a minimum value of 1 and a maximum value of 100.\n",
    "2. UnitPrice: The average unit price of the products is approximately 50.58.\n",
    "The unit price also shows a wide range, from 1 to 100.\n",
    "3. CustomerID: There are 406829 non-null entries, indicating missing values in the dataset which need to be addressed. The Customer IDs range from 12346 to 18287, helping in identifying unique customers.\n",
    "4. InvoiceNo: There are 25900 unique invoice numbers, indicating 25900 separate transactions. The most frequent invoice number is 573585, appearing 1114 times, possibly representing a large transaction or an order with multiple items.\n",
    "5. StockCode: There are 9000 unique stock codes representing different products.\n",
    "The most frequent stock code is SC2014, appearing 96 times in the dataset.\n",
    "6. Description: There are 10 unique product descriptions. The most frequent product description is \"Sports Equipment\", appearing 54765 times.\n",
    "7. Country: The transactions come from 28 different countries, with a dominant majority of the transactions (approximately 3.6%) originating from the Cote d'Ivoire\n",
    "\n",
    "# Other Observations:\n",
    "1.   The data has 541,909 rows and  8 features.\n",
    "2.   The missing values is from \"CustomerID\" only having missing values of \t135,080. The rows will be removed from the data.\n",
    "3.   No duplicated values observed in the data.\n",
    "4.   Unique Values: The unique vales are made of 28 countries , 22,190 invoices, 9,000 stock code.\n",
    "5.   The data types consist of 5 objects, 2 floats , and 1 interger.\n",
    "6.   The common words from 'Description' and 'Country' are 'Sports equipments' and 'Cote d'Ivouire'.\n"
   ]
  },
  {
   "cell_type": "markdown",
   "metadata": {},
   "source": [
    "# 2.0 Loading the Dataset"
   ]
  },
  {
   "cell_type": "code",
   "execution_count": null,
   "metadata": {},
   "outputs": [],
   "source": []
  }
 ],
 "metadata": {
  "kernelspec": {
   "display_name": ".venv",
   "language": "python",
   "name": "python3"
  },
  "language_info": {
   "codemirror_mode": {
    "name": "ipython",
    "version": 3
   },
   "file_extension": ".py",
   "mimetype": "text/x-python",
   "name": "python",
   "nbconvert_exporter": "python",
   "pygments_lexer": "ipython3",
   "version": "3.12.5"
  }
 },
 "nbformat": 4,
 "nbformat_minor": 2
}
